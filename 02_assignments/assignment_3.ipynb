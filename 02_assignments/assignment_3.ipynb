{
 "cells": [
  {
   "cell_type": "markdown",
   "id": "7b0bcac6-5086-4f4e-928a-570a9ff7ae58",
   "metadata": {},
   "source": [
    "# Assignment 3"
   ]
  },
  {
   "cell_type": "markdown",
   "id": "5fce0350-2a17-4e93-8d4c-0b8748fdfc32",
   "metadata": {},
   "source": [
    "As before, if a question can be answered with 'yes/no', or a numeric value, you may simply state as much. If you incorporate code from the internet (which is not required and generally not advisable), please cite the source within your code (providing a URL is sufficient).\n",
    "\n",
    "We will go through comparable code and concepts in the live learning session. If you run into trouble, start by using the help `help()` function in Python, to get information about the datasets and function in question. The internet is also a great resource when coding (though note that no outside searches are required by the assignment!). If you do incorporate code from the internet, please cite the source within your code (providing a URL is sufficient).\n",
    "\n",
    "Please bring questions that you cannot work out on your own to office hours, work periods or share with your peers on Slack. We will work with you through the issue."
   ]
  },
  {
   "cell_type": "code",
   "execution_count": 1,
   "id": "b92f7c91",
   "metadata": {},
   "outputs": [],
   "source": [
    "import numpy as np\n",
    "import pandas as pd\n",
    "import matplotlib.pyplot as plt\n",
    "import statsmodels.api as sm"
   ]
  },
  {
   "cell_type": "markdown",
   "id": "d7fff1dd-e4ce-4a60-96a0-d08136e9bf5e",
   "metadata": {},
   "source": [
    "### Question 1: Resampling via Bootstrapping\n",
    "\n",
    "Now, we'll use the `iris` dataset, which we will add to Python using the `statsmodels` library. As always, start by reviewing a description of the dataset, by printing the dataset."
   ]
  },
  {
   "cell_type": "code",
   "execution_count": 2,
   "id": "47f4dcf5-0d4c-41ea-892d-d9f2c1aa1859",
   "metadata": {},
   "outputs": [
    {
     "data": {
      "text/html": [
       "<div>\n",
       "<style scoped>\n",
       "    .dataframe tbody tr th:only-of-type {\n",
       "        vertical-align: middle;\n",
       "    }\n",
       "\n",
       "    .dataframe tbody tr th {\n",
       "        vertical-align: top;\n",
       "    }\n",
       "\n",
       "    .dataframe thead th {\n",
       "        text-align: right;\n",
       "    }\n",
       "</style>\n",
       "<table border=\"1\" class=\"dataframe\">\n",
       "  <thead>\n",
       "    <tr style=\"text-align: right;\">\n",
       "      <th></th>\n",
       "      <th>Sepal.Length</th>\n",
       "      <th>Sepal.Width</th>\n",
       "      <th>Petal.Length</th>\n",
       "      <th>Petal.Width</th>\n",
       "      <th>Species</th>\n",
       "    </tr>\n",
       "  </thead>\n",
       "  <tbody>\n",
       "    <tr>\n",
       "      <th>0</th>\n",
       "      <td>5.1</td>\n",
       "      <td>3.5</td>\n",
       "      <td>1.4</td>\n",
       "      <td>0.2</td>\n",
       "      <td>setosa</td>\n",
       "    </tr>\n",
       "    <tr>\n",
       "      <th>1</th>\n",
       "      <td>4.9</td>\n",
       "      <td>3.0</td>\n",
       "      <td>1.4</td>\n",
       "      <td>0.2</td>\n",
       "      <td>setosa</td>\n",
       "    </tr>\n",
       "    <tr>\n",
       "      <th>2</th>\n",
       "      <td>4.7</td>\n",
       "      <td>3.2</td>\n",
       "      <td>1.3</td>\n",
       "      <td>0.2</td>\n",
       "      <td>setosa</td>\n",
       "    </tr>\n",
       "    <tr>\n",
       "      <th>3</th>\n",
       "      <td>4.6</td>\n",
       "      <td>3.1</td>\n",
       "      <td>1.5</td>\n",
       "      <td>0.2</td>\n",
       "      <td>setosa</td>\n",
       "    </tr>\n",
       "    <tr>\n",
       "      <th>4</th>\n",
       "      <td>5.0</td>\n",
       "      <td>3.6</td>\n",
       "      <td>1.4</td>\n",
       "      <td>0.2</td>\n",
       "      <td>setosa</td>\n",
       "    </tr>\n",
       "    <tr>\n",
       "      <th>...</th>\n",
       "      <td>...</td>\n",
       "      <td>...</td>\n",
       "      <td>...</td>\n",
       "      <td>...</td>\n",
       "      <td>...</td>\n",
       "    </tr>\n",
       "    <tr>\n",
       "      <th>145</th>\n",
       "      <td>6.7</td>\n",
       "      <td>3.0</td>\n",
       "      <td>5.2</td>\n",
       "      <td>2.3</td>\n",
       "      <td>virginica</td>\n",
       "    </tr>\n",
       "    <tr>\n",
       "      <th>146</th>\n",
       "      <td>6.3</td>\n",
       "      <td>2.5</td>\n",
       "      <td>5.0</td>\n",
       "      <td>1.9</td>\n",
       "      <td>virginica</td>\n",
       "    </tr>\n",
       "    <tr>\n",
       "      <th>147</th>\n",
       "      <td>6.5</td>\n",
       "      <td>3.0</td>\n",
       "      <td>5.2</td>\n",
       "      <td>2.0</td>\n",
       "      <td>virginica</td>\n",
       "    </tr>\n",
       "    <tr>\n",
       "      <th>148</th>\n",
       "      <td>6.2</td>\n",
       "      <td>3.4</td>\n",
       "      <td>5.4</td>\n",
       "      <td>2.3</td>\n",
       "      <td>virginica</td>\n",
       "    </tr>\n",
       "    <tr>\n",
       "      <th>149</th>\n",
       "      <td>5.9</td>\n",
       "      <td>3.0</td>\n",
       "      <td>5.1</td>\n",
       "      <td>1.8</td>\n",
       "      <td>virginica</td>\n",
       "    </tr>\n",
       "  </tbody>\n",
       "</table>\n",
       "<p>150 rows × 5 columns</p>\n",
       "</div>"
      ],
      "text/plain": [
       "     Sepal.Length  Sepal.Width  Petal.Length  Petal.Width    Species\n",
       "0             5.1          3.5           1.4          0.2     setosa\n",
       "1             4.9          3.0           1.4          0.2     setosa\n",
       "2             4.7          3.2           1.3          0.2     setosa\n",
       "3             4.6          3.1           1.5          0.2     setosa\n",
       "4             5.0          3.6           1.4          0.2     setosa\n",
       "..            ...          ...           ...          ...        ...\n",
       "145           6.7          3.0           5.2          2.3  virginica\n",
       "146           6.3          2.5           5.0          1.9  virginica\n",
       "147           6.5          3.0           5.2          2.0  virginica\n",
       "148           6.2          3.4           5.4          2.3  virginica\n",
       "149           5.9          3.0           5.1          1.8  virginica\n",
       "\n",
       "[150 rows x 5 columns]"
      ]
     },
     "execution_count": 2,
     "metadata": {},
     "output_type": "execute_result"
    }
   ],
   "source": [
    "# Import\n",
    "iris = sm.datasets.get_rdataset('iris', 'datasets')\n",
    "df = pd.DataFrame(iris.data)\n",
    "df"
   ]
  },
  {
   "cell_type": "markdown",
   "id": "7717a32c",
   "metadata": {},
   "source": [
    "_(i)_ Create an `alpha_func(D, idx)` function which takes the `Sepal`'s `width` and `length` to calculate for alpha"
   ]
  },
  {
   "cell_type": "code",
   "execution_count": 4,
   "id": "f3da5483",
   "metadata": {},
   "outputs": [],
   "source": [
    "# (i)\n",
    "\n",
    "def alpha_func(D, idx):\n",
    "    cov_ = np.cov(D[['Sepal.Length','Sepal.Width']].loc[idx], rowvar=False)\n",
    "    return ((cov_[1,1] - cov_[0,1]) /\n",
    "            (cov_[0,0]+cov_[1,1]-2*cov_[0,1]))"
   ]
  },
  {
   "cell_type": "markdown",
   "id": "ff94d66b",
   "metadata": {},
   "source": [
    "Test the code below"
   ]
  },
  {
   "cell_type": "code",
   "execution_count": 5,
   "id": "eda715cd",
   "metadata": {},
   "outputs": [
    {
     "data": {
      "text/plain": [
       "0.38105014898343803"
      ]
     },
     "execution_count": 5,
     "metadata": {},
     "output_type": "execute_result"
    }
   ],
   "source": [
    "alpha_func(df, range(100))"
   ]
  },
  {
   "cell_type": "markdown",
   "id": "f338b14e",
   "metadata": {},
   "source": [
    "_(ii)_ Construct a new bootstrap data set and recompute alpha"
   ]
  },
  {
   "cell_type": "code",
   "execution_count": 8,
   "id": "34ee835f",
   "metadata": {},
   "outputs": [
    {
     "data": {
      "text/plain": [
       "0.3324645134841774"
      ]
     },
     "execution_count": 8,
     "metadata": {},
     "output_type": "execute_result"
    }
   ],
   "source": [
    "rng = np.random.default_rng(0)\n",
    "alpha_func(df,\n",
    "           rng.choice(100,\n",
    "                      100,\n",
    "                      replace=True))"
   ]
  },
  {
   "cell_type": "markdown",
   "id": "056080ff-7aec-41aa-bb61-763b390e4cf2",
   "metadata": {},
   "source": [
    "Imagine we are analysts working for a shipping company. The company wants to know the average length of iris' petals, to inform space allotment on an upcoming shipment. The relevant variable in the dataset is `Sepal.Length`. \n",
    "\n",
    "_(iii)_ Why is it (perhaps) not sufficient to simply calculate the mean of `Sepal.Length`? What more information will preforming a bootstrap provide to us?  \n",
    "\n",
    "_(iv)_ We can perform bootstrapping in Python by defining a simple function using `boot_SE()` for computing the bootstrap standard error. Remember, because bootstrapping involves randomness, we must first set a seed for reproducibility!"
   ]
  },
  {
   "cell_type": "code",
   "execution_count": 15,
   "id": "77540f76-7747-4dba-8e77-e1ded54af536",
   "metadata": {},
   "outputs": [],
   "source": [
    "# (iii)\n",
    "# Simply calculating the mean of Sepal.Length doesn't provide information on its variability or confidence interval\n",
    "# We can use the bootstrap method to estimate the standard error of the mean\n",
    "\n",
    "# (iv)\n",
    "def boot_SE(func, D, n=None, B=1000, seed=0):\n",
    "    rng = np.random.default_rng(seed)\n",
    "    n = n or D.shape[0]\n",
    "    bootstrap_values = []\n",
    "    first_, second_ = 0, 0\n",
    "    \n",
    "    for _ in range(B):\n",
    "        idx = rng.choice(D.index, n, replace=True)\n",
    "        value = func(D, idx)\n",
    "        bootstrap_values.append(value)\n",
    "        first_ += value\n",
    "        second_ += value**2\n",
    "    \n",
    "    # Calculate standard error\n",
    "    standard_error = np.sqrt(second_ / B - (first_ / B)**2)\n",
    "    return standard_error, np.array(bootstrap_values)"
   ]
  },
  {
   "cell_type": "markdown",
   "id": "8a543472",
   "metadata": {},
   "source": [
    "_(v)_ Evaluate the accuracy of our alpha estimate with B = 1000"
   ]
  },
  {
   "cell_type": "code",
   "execution_count": 16,
   "id": "9ed41c4e",
   "metadata": {},
   "outputs": [
    {
     "data": {
      "text/plain": [
       "(0.031805100768609415,\n",
       " array([0.18830059, 0.22389698, 0.20057469, 0.241568  , 0.24908259,\n",
       "        0.24625543, 0.22111738, 0.26086624, 0.24980013, 0.23297294,\n",
       "        0.23785601, 0.26233991, 0.20340398, 0.2768033 , 0.24047224,\n",
       "        0.22786294, 0.20132126, 0.28068419, 0.22110996, 0.1970283 ,\n",
       "        0.23865185, 0.28144986, 0.23050554, 0.19431813, 0.24656343,\n",
       "        0.25199088, 0.25699606, 0.25288955, 0.2793997 , 0.2095195 ,\n",
       "        0.27029546, 0.17969616, 0.23404509, 0.20387212, 0.20366089,\n",
       "        0.28972734, 0.18079704, 0.23568555, 0.20957433, 0.24933915,\n",
       "        0.29112109, 0.29844115, 0.25969873, 0.22912731, 0.22611141,\n",
       "        0.22817939, 0.2633179 , 0.26059029, 0.20181064, 0.21466917,\n",
       "        0.2755638 , 0.23279045, 0.20744557, 0.22660866, 0.20757392,\n",
       "        0.2555327 , 0.24421578, 0.24914661, 0.29228482, 0.27604023,\n",
       "        0.18168054, 0.26591079, 0.3080904 , 0.19458524, 0.23547472,\n",
       "        0.29665115, 0.27797489, 0.21009949, 0.212537  , 0.28407616,\n",
       "        0.32020426, 0.21371458, 0.29547065, 0.24709875, 0.27170893,\n",
       "        0.26883383, 0.21977223, 0.26407413, 0.19379952, 0.27408867,\n",
       "        0.23501904, 0.1905884 , 0.23237803, 0.16668135, 0.27713085,\n",
       "        0.25171306, 0.29042625, 0.2638028 , 0.22679315, 0.19679812,\n",
       "        0.20626597, 0.23927433, 0.22423573, 0.28418747, 0.21510187,\n",
       "        0.21307122, 0.2614297 , 0.23439231, 0.264381  , 0.26065383,\n",
       "        0.27330281, 0.280892  , 0.25281624, 0.19908681, 0.26452931,\n",
       "        0.17525543, 0.23022263, 0.27558145, 0.28865048, 0.19737467,\n",
       "        0.26369195, 0.20215113, 0.21217385, 0.30279265, 0.24168132,\n",
       "        0.24843923, 0.25805826, 0.25640361, 0.22158752, 0.19783746,\n",
       "        0.22593523, 0.21950119, 0.17824864, 0.23128422, 0.25198722,\n",
       "        0.28724454, 0.2075008 , 0.17107174, 0.25687555, 0.26473184,\n",
       "        0.25380836, 0.26715066, 0.26655099, 0.18060142, 0.27988313,\n",
       "        0.23175829, 0.24212501, 0.27330705, 0.26764939, 0.20080168,\n",
       "        0.33803571, 0.2418355 , 0.26444075, 0.25017292, 0.26010395,\n",
       "        0.26876384, 0.22385413, 0.24413908, 0.23484999, 0.22438931,\n",
       "        0.2477085 , 0.30444924, 0.26078233, 0.21639414, 0.28345144,\n",
       "        0.25828585, 0.22522382, 0.23380956, 0.22817554, 0.23467154,\n",
       "        0.32962957, 0.17074988, 0.2416818 , 0.29249698, 0.22758508,\n",
       "        0.23417689, 0.168801  , 0.19090504, 0.17582797, 0.28512791,\n",
       "        0.23317439, 0.33495184, 0.20465128, 0.19464431, 0.21690406,\n",
       "        0.18961667, 0.21653146, 0.21994088, 0.27842397, 0.22986823,\n",
       "        0.24940982, 0.27032769, 0.23925832, 0.24578868, 0.24938905,\n",
       "        0.21913863, 0.25557984, 0.2728807 , 0.21869769, 0.22266688,\n",
       "        0.24726418, 0.17859828, 0.23736888, 0.22560382, 0.23576319,\n",
       "        0.27241109, 0.21274946, 0.29294913, 0.2024244 , 0.25237485,\n",
       "        0.29008088, 0.23217469, 0.27898779, 0.26886575, 0.29844663,\n",
       "        0.24798561, 0.17822918, 0.2521739 , 0.25273259, 0.25215156,\n",
       "        0.2102072 , 0.27148192, 0.22593058, 0.23486671, 0.28630516,\n",
       "        0.26203221, 0.22446621, 0.20031719, 0.23996608, 0.20711947,\n",
       "        0.22581193, 0.21586205, 0.2090085 , 0.26713572, 0.26729613,\n",
       "        0.2942799 , 0.24764776, 0.25694868, 0.18651502, 0.22133094,\n",
       "        0.22770298, 0.27028903, 0.2776745 , 0.18510125, 0.18634492,\n",
       "        0.24787839, 0.275066  , 0.23573169, 0.24823672, 0.21520465,\n",
       "        0.2769459 , 0.25124511, 0.18498888, 0.25962362, 0.19294557,\n",
       "        0.17606157, 0.26556881, 0.21595245, 0.23138815, 0.27947569,\n",
       "        0.19003568, 0.2666943 , 0.15636384, 0.22291025, 0.29661642,\n",
       "        0.27260137, 0.2240479 , 0.24903293, 0.2666878 , 0.27023981,\n",
       "        0.23288673, 0.27488405, 0.25648018, 0.21100672, 0.20446715,\n",
       "        0.29706336, 0.23468023, 0.27300218, 0.24235142, 0.2324583 ,\n",
       "        0.22877095, 0.26118444, 0.21558495, 0.24586081, 0.25587301,\n",
       "        0.23922393, 0.21645945, 0.21615043, 0.22977409, 0.22372845,\n",
       "        0.26598891, 0.26563912, 0.21797212, 0.24854772, 0.24451228,\n",
       "        0.22673455, 0.21730144, 0.22818016, 0.22283306, 0.2712395 ,\n",
       "        0.27983744, 0.25154751, 0.22667885, 0.26294967, 0.18024356,\n",
       "        0.25184923, 0.25962664, 0.26767855, 0.21678046, 0.27050516,\n",
       "        0.24132296, 0.19146536, 0.26933972, 0.29639559, 0.23273542,\n",
       "        0.21879177, 0.23740444, 0.2946642 , 0.23344625, 0.23541518,\n",
       "        0.28322492, 0.24824978, 0.26203419, 0.17929662, 0.24849122,\n",
       "        0.29455014, 0.24412608, 0.26281114, 0.20262485, 0.2058082 ,\n",
       "        0.2646402 , 0.26657915, 0.19954102, 0.2634606 , 0.27837816,\n",
       "        0.26802809, 0.28921793, 0.24158243, 0.29993909, 0.26897647,\n",
       "        0.25007255, 0.24119646, 0.20967553, 0.31270539, 0.24852994,\n",
       "        0.24614903, 0.23192131, 0.25227177, 0.21874316, 0.28492522,\n",
       "        0.22937951, 0.18923063, 0.33159547, 0.26788824, 0.28438708,\n",
       "        0.22282812, 0.21256384, 0.27077563, 0.30533334, 0.22302682,\n",
       "        0.20464021, 0.21772798, 0.26424681, 0.25944051, 0.27155133,\n",
       "        0.26016791, 0.21730547, 0.1614219 , 0.29467442, 0.24796944,\n",
       "        0.21900577, 0.24463454, 0.26973568, 0.22390138, 0.23220126,\n",
       "        0.17410362, 0.20585118, 0.2031149 , 0.22150667, 0.22093673,\n",
       "        0.27204534, 0.18613513, 0.22535732, 0.22406357, 0.28653243,\n",
       "        0.18855866, 0.23780288, 0.24897895, 0.29640258, 0.2417111 ,\n",
       "        0.2495516 , 0.22471333, 0.28384709, 0.22663156, 0.20471259,\n",
       "        0.25174727, 0.1957387 , 0.24304128, 0.19836904, 0.27162505,\n",
       "        0.2399048 , 0.25005576, 0.25402872, 0.21274222, 0.24010631,\n",
       "        0.30636631, 0.20136506, 0.20565934, 0.26466814, 0.22331279,\n",
       "        0.27582636, 0.23342713, 0.21479936, 0.21149796, 0.27766041,\n",
       "        0.23787433, 0.22417452, 0.24389787, 0.18889055, 0.24134745,\n",
       "        0.18446456, 0.24733666, 0.25745401, 0.27596215, 0.26799059,\n",
       "        0.23652018, 0.23142874, 0.27800333, 0.19374516, 0.23032878,\n",
       "        0.25921023, 0.24636656, 0.22519203, 0.21593715, 0.18424561,\n",
       "        0.30971589, 0.2435435 , 0.27751131, 0.2051363 , 0.19902938,\n",
       "        0.23529081, 0.2986406 , 0.24161833, 0.19611284, 0.21276808,\n",
       "        0.25236823, 0.22870955, 0.26109452, 0.27130713, 0.25076367,\n",
       "        0.21658979, 0.23264237, 0.23193682, 0.24248001, 0.2425569 ,\n",
       "        0.2239542 , 0.2810443 , 0.26343935, 0.23166428, 0.28127425,\n",
       "        0.28127519, 0.28152344, 0.19544317, 0.25127187, 0.25431336,\n",
       "        0.24452403, 0.26579234, 0.23244676, 0.248913  , 0.26160539,\n",
       "        0.23860416, 0.24283123, 0.25998581, 0.19581332, 0.23891818,\n",
       "        0.24480359, 0.23373722, 0.28949405, 0.29629295, 0.24796131,\n",
       "        0.23271694, 0.25461274, 0.24488735, 0.25776024, 0.24824473,\n",
       "        0.24418806, 0.22764021, 0.19695627, 0.21429035, 0.24923112,\n",
       "        0.20090437, 0.2579382 , 0.19901951, 0.22968339, 0.23488867,\n",
       "        0.24026   , 0.29156836, 0.19646445, 0.25138049, 0.25193084,\n",
       "        0.23634372, 0.26866258, 0.28542318, 0.23145582, 0.26661374,\n",
       "        0.28310438, 0.24052054, 0.290853  , 0.2194182 , 0.26977974,\n",
       "        0.32082242, 0.26298464, 0.23690291, 0.26181557, 0.25666074,\n",
       "        0.23194375, 0.22400449, 0.2288572 , 0.21798741, 0.2204463 ,\n",
       "        0.21333908, 0.25783646, 0.21753545, 0.21512775, 0.25192507,\n",
       "        0.1654373 , 0.27144975, 0.30738572, 0.26726235, 0.19194098,\n",
       "        0.21702053, 0.2656673 , 0.18917152, 0.24273024, 0.16730446,\n",
       "        0.28677022, 0.26203755, 0.24514921, 0.24762473, 0.14534585,\n",
       "        0.27736816, 0.22137069, 0.25418629, 0.25320776, 0.21396363,\n",
       "        0.25579122, 0.27087067, 0.25468046, 0.25885953, 0.2248977 ,\n",
       "        0.21248693, 0.20131155, 0.27193295, 0.18860058, 0.26889818,\n",
       "        0.28588763, 0.25375856, 0.20291224, 0.27752562, 0.19992715,\n",
       "        0.20802067, 0.25256609, 0.24520793, 0.23354369, 0.2152533 ,\n",
       "        0.28011326, 0.25952877, 0.21154804, 0.29238735, 0.23702722,\n",
       "        0.24713873, 0.23556814, 0.20463192, 0.21926612, 0.21303699,\n",
       "        0.24934548, 0.23567581, 0.20569085, 0.29472151, 0.21158239,\n",
       "        0.2579944 , 0.24813821, 0.22361188, 0.22188009, 0.22848332,\n",
       "        0.20839171, 0.20235797, 0.20442712, 0.21683499, 0.28052701,\n",
       "        0.27052053, 0.24064859, 0.2186595 , 0.22112036, 0.2528902 ,\n",
       "        0.22053245, 0.25973975, 0.26062887, 0.25125493, 0.34765516,\n",
       "        0.26313226, 0.25370322, 0.23194675, 0.24215221, 0.26233269,\n",
       "        0.30669066, 0.23352701, 0.23577292, 0.27395475, 0.30515209,\n",
       "        0.23121175, 0.25710267, 0.30807559, 0.21382449, 0.27484744,\n",
       "        0.24960364, 0.29507593, 0.21806825, 0.25783589, 0.2365611 ,\n",
       "        0.29984865, 0.27720186, 0.26617056, 0.23004424, 0.25494525,\n",
       "        0.28834357, 0.20313394, 0.24197602, 0.24968964, 0.29532301,\n",
       "        0.23776296, 0.180455  , 0.24943401, 0.21949702, 0.24257297,\n",
       "        0.23174364, 0.23911204, 0.24557861, 0.21881075, 0.24608338,\n",
       "        0.29827012, 0.19734148, 0.23417968, 0.21134059, 0.25013292,\n",
       "        0.20234304, 0.26293419, 0.23509046, 0.25659994, 0.21195683,\n",
       "        0.2520749 , 0.27608045, 0.18386985, 0.2622292 , 0.22988506,\n",
       "        0.27538798, 0.24402449, 0.25514295, 0.23800212, 0.28359532,\n",
       "        0.25264963, 0.17543117, 0.28673391, 0.22957287, 0.23772232,\n",
       "        0.26273071, 0.2140631 , 0.26768038, 0.27593209, 0.27798948,\n",
       "        0.26506587, 0.21616336, 0.21584934, 0.20128805, 0.27385664,\n",
       "        0.20710024, 0.22725894, 0.22143515, 0.19390711, 0.26280009,\n",
       "        0.24629814, 0.27118205, 0.24628863, 0.19537682, 0.2341453 ,\n",
       "        0.25306055, 0.27179086, 0.26213844, 0.21597366, 0.25969253,\n",
       "        0.28209054, 0.24882351, 0.24256895, 0.24550931, 0.28079692,\n",
       "        0.25721792, 0.22842967, 0.24896506, 0.27566587, 0.22183491,\n",
       "        0.26431298, 0.17850301, 0.25201582, 0.26886053, 0.24044921,\n",
       "        0.26370065, 0.2396627 , 0.27781601, 0.25356669, 0.20785822,\n",
       "        0.23947368, 0.21550323, 0.20726017, 0.19640519, 0.19756194,\n",
       "        0.26165045, 0.30583207, 0.25974788, 0.22804853, 0.23662789,\n",
       "        0.2153219 , 0.22111202, 0.26899586, 0.24237626, 0.19889315,\n",
       "        0.27794097, 0.16102175, 0.21944951, 0.23487816, 0.22029333,\n",
       "        0.24738749, 0.2122218 , 0.22606592, 0.25437797, 0.20813349,\n",
       "        0.26169445, 0.28220733, 0.19848089, 0.23877133, 0.19598404,\n",
       "        0.25764534, 0.24747475, 0.26714492, 0.24594592, 0.20567648,\n",
       "        0.24561481, 0.24641438, 0.2305628 , 0.2187185 , 0.27191664,\n",
       "        0.26345355, 0.21054399, 0.22713718, 0.27877773, 0.19569427,\n",
       "        0.2314201 , 0.24633556, 0.25218534, 0.21114054, 0.25396094,\n",
       "        0.25883103, 0.21668054, 0.23366993, 0.2284478 , 0.24590142,\n",
       "        0.29324556, 0.25588189, 0.27703043, 0.2193112 , 0.23058543,\n",
       "        0.22888089, 0.22314957, 0.25231135, 0.13940131, 0.23323358,\n",
       "        0.23560337, 0.2321997 , 0.32980733, 0.20949675, 0.20444293,\n",
       "        0.24244304, 0.1964108 , 0.22399742, 0.23014842, 0.2042417 ,\n",
       "        0.2743004 , 0.24585226, 0.23116355, 0.27012727, 0.20927184,\n",
       "        0.2126931 , 0.21053523, 0.23702648, 0.21291866, 0.2486507 ,\n",
       "        0.22649651, 0.18644237, 0.23927924, 0.21377264, 0.24130583,\n",
       "        0.25157231, 0.25080124, 0.21105174, 0.25015159, 0.26311139,\n",
       "        0.18617411, 0.23636024, 0.28823444, 0.23479422, 0.18500088,\n",
       "        0.22822559, 0.2480535 , 0.27672035, 0.30731636, 0.21303558,\n",
       "        0.26712149, 0.21644319, 0.26101595, 0.21499257, 0.23043703,\n",
       "        0.27035681, 0.29271288, 0.27209633, 0.22226861, 0.24916934,\n",
       "        0.23854206, 0.26686961, 0.16927007, 0.25051521, 0.23744738,\n",
       "        0.27239449, 0.23103294, 0.16453639, 0.26164703, 0.27615855,\n",
       "        0.26548098, 0.21436039, 0.24283362, 0.25172194, 0.22525482,\n",
       "        0.28679801, 0.24236842, 0.27105969, 0.26440443, 0.26340167,\n",
       "        0.21665662, 0.2549652 , 0.27853709, 0.26410643, 0.23099953,\n",
       "        0.24159977, 0.21432931, 0.22908096, 0.25551647, 0.24007644,\n",
       "        0.29382416, 0.21065405, 0.2339005 , 0.24920444, 0.26419403,\n",
       "        0.2678117 , 0.23951178, 0.26314251, 0.25655388, 0.1929103 ,\n",
       "        0.21903885, 0.23684951, 0.23717197, 0.24034127, 0.24557485,\n",
       "        0.24389002, 0.30235608, 0.20091996, 0.26653236, 0.2372218 ,\n",
       "        0.25587614, 0.27950532, 0.30886487, 0.22235551, 0.2449618 ,\n",
       "        0.2517016 , 0.19352062, 0.25069639, 0.25179625, 0.21537242,\n",
       "        0.26999735, 0.21124032, 0.24405275, 0.21143901, 0.26678895,\n",
       "        0.21445593, 0.26830459, 0.23709404, 0.24029434, 0.18788693,\n",
       "        0.30856698, 0.2303114 , 0.20735257, 0.23194716, 0.20675933,\n",
       "        0.26110406, 0.2873245 , 0.28435839, 0.17860621, 0.2876981 ,\n",
       "        0.22461877, 0.23597473, 0.24011311, 0.22937852, 0.20712731,\n",
       "        0.2253533 , 0.21732672, 0.23499428, 0.26301377, 0.23095185,\n",
       "        0.22711192, 0.28045992, 0.21205231, 0.25181595, 0.2502325 ,\n",
       "        0.27710462, 0.216065  , 0.20369083, 0.21033319, 0.26687199,\n",
       "        0.18892008, 0.2503637 , 0.27213458, 0.27260871, 0.18834369,\n",
       "        0.26892258, 0.22237347, 0.19576968, 0.20867858, 0.24065988,\n",
       "        0.26083604, 0.25688509, 0.20714194, 0.20430917, 0.24685634,\n",
       "        0.20768053, 0.29863259, 0.21252653, 0.26826371, 0.25578604,\n",
       "        0.30334082, 0.23222447, 0.22952008, 0.23686385, 0.22880744,\n",
       "        0.24519862, 0.18152878, 0.22069337, 0.30827258, 0.26102389,\n",
       "        0.19683439, 0.23770407, 0.23152048, 0.23479154, 0.18919923,\n",
       "        0.21003651, 0.26997953, 0.2729228 , 0.20794796, 0.23693804,\n",
       "        0.23459588, 0.26873705, 0.26800809, 0.23082532, 0.27663493,\n",
       "        0.23773683, 0.27271467, 0.21132077, 0.27397493, 0.17943739,\n",
       "        0.21449393, 0.26095261, 0.17767429, 0.30783031, 0.2066541 ,\n",
       "        0.28719051, 0.25639084, 0.19029764, 0.23832281, 0.2335104 ,\n",
       "        0.22403507, 0.1976386 , 0.23907095, 0.26377329, 0.28497337,\n",
       "        0.29912069, 0.15654409, 0.24051131, 0.22056516, 0.24187124,\n",
       "        0.25497009, 0.22551867, 0.24634318, 0.25399526, 0.23741118,\n",
       "        0.19662502, 0.25156295, 0.2731035 , 0.20632853, 0.27038062,\n",
       "        0.23909862, 0.29012585, 0.24619956, 0.21477617, 0.2669248 ]))"
      ]
     },
     "execution_count": 16,
     "metadata": {},
     "output_type": "execute_result"
    }
   ],
   "source": [
    "# (v)\n",
    "alpha_SE = boot_SE(alpha_func, df, B=1000)\n",
    "alpha_SE\n",
    "\n",
    "# A smaller standard error indicates a more precise estimate.\n",
    "# If the standard error is large, it suggests that the alpha estimate has high variability and may not be very reliable."
   ]
  },
  {
   "cell_type": "markdown",
   "id": "785fe758-f395-40b6-a9a3-28ec2efeba29",
   "metadata": {},
   "source": [
    "_(vi)_ What is the original mean value of `Sepal.Length`?"
   ]
  },
  {
   "cell_type": "code",
   "execution_count": 14,
   "id": "7686243c",
   "metadata": {},
   "outputs": [
    {
     "data": {
      "text/plain": [
       "5.843333333333334"
      ]
     },
     "execution_count": 14,
     "metadata": {},
     "output_type": "execute_result"
    }
   ],
   "source": [
    "# (vi)\n",
    "mean_sepal = df['Sepal.Length'].mean()\n",
    "mean_sepal"
   ]
  },
  {
   "cell_type": "markdown",
   "id": "944e24cc",
   "metadata": {},
   "source": [
    "Next, let's create a new bootstrapping to bootstrap samples (boot_se_samples) of Sepal.Length, in order to compute its bootstrapped mean and standard deviation.\n",
    "\n",
    "(vii). Write code to review the bootstrapped mean value, and the standard deviation of the bootstrapped samples. Compare the mean against its original value. Then, review the bootstrapped range, by using t_range = np.ptp(boot_se_samples)."
   ]
  },
  {
   "cell_type": "code",
   "execution_count": 40,
   "id": "29d0ef82",
   "metadata": {},
   "outputs": [
    {
     "name": "stdout",
     "output_type": "stream",
     "text": [
      "Bootstrapped mean: 5.842284666666666\n",
      "Bootstrapped standard deviation: 0.06649295592099295\n",
      "Range of bootstrapped means: 0.3873333333333342\n"
     ]
    }
   ],
   "source": [
    "# (vii)\n",
    "\n",
    "def bootstrap_sample_mean(data, n=None, B=1000, seed=0):\n",
    "    rng = np.random.default_rng(seed)\n",
    "    n = n or len(data)\n",
    "    bootstrap_means = []\n",
    "\n",
    "    for _ in range(B):\n",
    "        sample = rng.choice(data, n, replace=True)\n",
    "        bootstrap_means.append(np.mean(sample))\n",
    "\n",
    "    bootstrap_means = np.array(bootstrap_means)\n",
    "    bootstrapped_mean = np.array(np.mean(bootstrap_means))\n",
    "    bootstrapped_std = np.std(bootstrap_means)\n",
    "    t_range = np.ptp(bootstrap_means)\n",
    "\n",
    "    return bootstrapped_mean, bootstrapped_std, t_range, bootstrap_means\n",
    "\n",
    "sepal_length = df['Sepal.Length'].values\n",
    "\n",
    "boot_mean, boot_std, t_range, boot_samples = bootstrap_sample_mean(sepal_length, B=1000, seed=0)\n",
    "\n",
    "print(f\"Bootstrapped mean: {boot_mean}\")\n",
    "print(f\"Bootstrapped standard deviation: {boot_std}\")\n",
    "print(f\"Range of bootstrapped means: {t_range}\")\n",
    "\n",
    "\n",
    "# Notes from work period session\n",
    "\n",
    "# New line for saving bootstrapped samples\n",
    "# Calculate bootstrap samples and standard deviation\n",
    "# I need to create another bootstrap function that will return the standard deviation of the alpha values"
   ]
  },
  {
   "cell_type": "markdown",
   "id": "66c6c663-f3bb-4a15-8896-6dccfb7259fd",
   "metadata": {},
   "source": [
    "_(viii)_ Next, let's compute 95% confidence intervals, for the mean value of iris petal length. (Hint: use the `np.percentile` function)"
   ]
  },
  {
   "cell_type": "code",
   "execution_count": 47,
   "id": "74de4a76-e500-4c93-82a9-e7365cc86c91",
   "metadata": {},
   "outputs": [
    {
     "ename": "AttributeError",
     "evalue": "'tuple' object has no attribute 'flatten'",
     "output_type": "error",
     "traceback": [
      "\u001b[0;31m---------------------------------------------------------------------------\u001b[0m",
      "\u001b[0;31mAttributeError\u001b[0m                            Traceback (most recent call last)",
      "Cell \u001b[0;32mIn[47], line 3\u001b[0m\n\u001b[1;32m      1\u001b[0m \u001b[38;5;66;03m# (viii)\u001b[39;00m\n\u001b[1;32m      2\u001b[0m petal_length \u001b[38;5;241m=\u001b[39m df[\u001b[38;5;124m'\u001b[39m\u001b[38;5;124mPetal.Length\u001b[39m\u001b[38;5;124m'\u001b[39m]\u001b[38;5;241m.\u001b[39mvalues\n\u001b[0;32m----> 3\u001b[0m petal_bootstrap_means \u001b[38;5;241m=\u001b[39m \u001b[43mbootstrap_sample_mean\u001b[49m\u001b[43m(\u001b[49m\u001b[43mpetal_length\u001b[49m\u001b[43m,\u001b[49m\u001b[43m \u001b[49m\u001b[43mB\u001b[49m\u001b[38;5;241;43m=\u001b[39;49m\u001b[38;5;241;43m1000\u001b[39;49m\u001b[43m,\u001b[49m\u001b[43m \u001b[49m\u001b[43mseed\u001b[49m\u001b[38;5;241;43m=\u001b[39;49m\u001b[38;5;241;43m0\u001b[39;49m\u001b[43m)\u001b[49m\u001b[38;5;241;43m.\u001b[39;49m\u001b[43mflatten\u001b[49m()\n\u001b[1;32m      4\u001b[0m petal_bootstrap_means\n\u001b[1;32m      6\u001b[0m \u001b[38;5;66;03m#conf_interval = np.percentile(np.array(petal_bootstrap_means).flatten(), [2.5, 97.5])\u001b[39;00m\n",
      "\u001b[0;31mAttributeError\u001b[0m: 'tuple' object has no attribute 'flatten'"
     ]
    }
   ],
   "source": [
    "# (viii)\n",
    "petal_length = df['Petal.Length'].values\n",
    "petal_bootstrap_means = bootstrap_sample_mean(petal_length, B=1000, seed=0)\n",
    "print(petal_bootstrap_means.flatten())\n",
    "\n",
    "#conf_interval = np.percentile(np.array(petal_bootstrap_means).flatten(), [2.5, 97.5])\n"
   ]
  },
  {
   "cell_type": "markdown",
   "id": "488e54f7-ebe4-4740-835c-9832320005d0",
   "metadata": {},
   "source": [
    "_(ix)_. Use the plot function to create an histogram of the bootstrapped samples. What does this histogram show ?"
   ]
  },
  {
   "cell_type": "code",
   "execution_count": null,
   "id": "4fca4e3f",
   "metadata": {},
   "outputs": [],
   "source": [
    "#Complete this\n",
    "\n",
    "# Create a figure and axis\n",
    "fig, ax = plt.subplots()\n",
    "\n",
    "# Create the histogram\n",
    "#Add your code here\n",
    "\n",
    "# Add a title\n",
    "#Add your code here\n",
    "\n",
    "# Add a label to the x-axis\n",
    "#Add your code here\n",
    "\n",
    "# Add a label to the y-axis\n",
    "#Add your code here\n",
    "\n",
    "# Show the plot\n",
    "plt.show()"
   ]
  },
  {
   "cell_type": "markdown",
   "id": "bfa9a095-9c7a-4ab5-aa99-b11bf419fae0",
   "metadata": {},
   "source": [
    "_(x)_ Given your bootstrapped analysis, what do you recommend to shipping company? "
   ]
  },
  {
   "cell_type": "code",
   "execution_count": null,
   "id": "5e83202e-4aab-44bb-8586-5d0e82e9e201",
   "metadata": {},
   "outputs": [],
   "source": [
    "# Write your answer here"
   ]
  },
  {
   "cell_type": "markdown",
   "id": "466943e8",
   "metadata": {},
   "source": [
    "# Criteria\n",
    "\n",
    "|Criteria            |Complete           |Incomplete          |\n",
    "|--------------------|---------------|--------------|\n",
    "|Bootstrapping|All steps are done correctly and the answers are correct.|At least one step is done incorrectly leading to a wrong answer.|"
   ]
  },
  {
   "cell_type": "markdown",
   "id": "68b8a226",
   "metadata": {},
   "source": [
    "## Submission Information\n",
    "\n",
    "🚨 **Please review our [Assignment Submission Guide](https://github.com/UofT-DSI/onboarding/blob/main/onboarding_documents/submissions.md)** 🚨 for detailed instructions on how to format, branch, and submit your work. Following these guidelines is crucial for your submissions to be evaluated correctly.\n",
    "\n",
    "### Note:\n",
    "\n",
    "If you like, you may collaborate with others in the cohort. If you choose to do so, please indicate with whom you have worked with in your pull request by tagging their GitHub username. Separate submissions are required.\n",
    "\n",
    "\n",
    "### Submission Parameters:\n",
    "* Submission Due Date: `HH:MM AM/PM - DD/MM/YYYY`\n",
    "* The branch name for your repo should be: `assignment-3`\n",
    "* What to submit for this assignment:\n",
    "    * This Jupyter Notebook (assignment_3.ipynb) should be populated and should be the only change in your pull request.\n",
    "* What the pull request link should look like for this assignment: `https://github.com/<your_github_username>/applied_statistical_concepts/pull/<pr_id>`\n",
    "    * Open a private window in your browser. Copy and paste the link to your pull request into the address bar. Make sure you can see your pull request properly. This helps the technical facilitator and learning support staff review your submission easily.\n",
    "\n",
    "Checklist:\n",
    "- [ ] Created a branch with the correct naming convention.\n",
    "- [ ] Ensured that the repository is public.\n",
    "- [ ] Reviewed the PR description guidelines and adhered to them.\n",
    "- [ ] Verify that the link is accessible in a private browser window.\n",
    "\n",
    "If you encounter any difficulties or have questions, please don't hesitate to reach out to our team via our Slack at `#cohort-3-help`. Our Technical Facilitators and Learning Support staff are here to help you navigate any challenges.\n"
   ]
  }
 ],
 "metadata": {
  "kernelspec": {
   "display_name": "Python 3.10.4",
   "language": "python",
   "name": "python3"
  },
  "language_info": {
   "codemirror_mode": {
    "name": "ipython",
    "version": 3
   },
   "file_extension": ".py",
   "mimetype": "text/x-python",
   "name": "python",
   "nbconvert_exporter": "python",
   "pygments_lexer": "ipython3",
   "version": "3.9.18"
  },
  "vscode": {
   "interpreter": {
    "hash": "497a84dc8fec8cf8d24e7e87b6d954c9a18a327edc66feb9b9ea7e9e72cc5c7e"
   }
  }
 },
 "nbformat": 4,
 "nbformat_minor": 5
}
