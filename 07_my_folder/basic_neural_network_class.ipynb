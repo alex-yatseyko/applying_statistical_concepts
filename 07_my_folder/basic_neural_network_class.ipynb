{
 "cells": [
  {
   "cell_type": "code",
   "execution_count": 2,
   "metadata": {},
   "outputs": [
    {
     "name": "stdout",
     "output_type": "stream",
     "text": [
      "Predicted output: [0.7539246]\n"
     ]
    }
   ],
   "source": [
    "import numpy as np\n",
    "\n",
    "class NeuralNetwork:\n",
    "    \n",
    "    def __init__(self, input_size, hidden_size, output_size):\n",
    "        # Initialize weights with random values\n",
    "        self.weights1 = np.random.rand(input_size, hidden_size)\n",
    "        self.weights2 = np.random.rand(hidden_size, output_size)\n",
    "\n",
    "    def sigmoid(self, x):\n",
    "        # Sigmoid activation function\n",
    "        return 1 / (1 + np.exp(-x))\n",
    "   \n",
    "    def predict(self, x):\n",
    "        # Forward pass through the network\n",
    "        hidden_layer = self.sigmoid(np.dot(x, self.weights1))\n",
    "        output = self.sigmoid(np.dot(hidden_layer, self.weights2))\n",
    "        return output\n",
    "\n",
    "network = NeuralNetwork(2, 3, 1)\n",
    "    \n",
    "# Sample input data\n",
    "x = np.array([0.1, 0.7])\n",
    "\n",
    "# Predict output\n",
    "output = network.predict(x)\n",
    "\n",
    "print(\"Predicted output:\", output)\n"
   ]
  }
 ],
 "metadata": {
  "kernelspec": {
   "display_name": "dsi_participant",
   "language": "python",
   "name": "python3"
  },
  "language_info": {
   "codemirror_mode": {
    "name": "ipython",
    "version": 3
   },
   "file_extension": ".py",
   "mimetype": "text/x-python",
   "name": "python",
   "nbconvert_exporter": "python",
   "pygments_lexer": "ipython3",
   "version": "3.9.18"
  }
 },
 "nbformat": 4,
 "nbformat_minor": 2
}
