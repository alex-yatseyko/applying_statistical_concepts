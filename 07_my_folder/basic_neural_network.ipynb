{
 "cells": [
  {
   "cell_type": "code",
   "execution_count": 6,
   "metadata": {},
   "outputs": [
    {
     "name": "stdout",
     "output_type": "stream",
     "text": [
      "Result. if no alcohol, rainy, no friend [0.69828318]\n",
      "Result. if alcohol, not rainy, friend [0.7755653]\n",
      "Result. if alcohol, rainy, no friend [0.71146706]\n",
      "Result. if no alcohol, not rainy, friend [0.77046691]\n",
      "Result. if alcohol, rainy, friend [0.75186788]\n",
      "Result. if no alcohol, not rainy, no friend [0.73105858]\n",
      "Result. if alcohol, not rainy, no friend [0.74274459]\n",
      "Result. if no alcohol, rainy, friend [0.74274459]\n"
     ]
    }
   ],
   "source": [
    "import numpy as np\n",
    "\n",
    "inputs = np.array([0,1,0]) # if no alcohol, rainy, no friend\n",
    "inputs2 = np.array([1,0,1]) # if alcohol, not rainy, friend\n",
    "inputs3 = np.array([1,1,0]) # if alcohol, rainy, no friend\n",
    "inputs4 = np.array([0,0,1]) # if no alcohol, not rainy, friend\n",
    "inputs5 = np.array([1,1,1]) # if alcohol, rainy, friend\n",
    "inputs6 = np.array([0,0,0]) # if no alcohol, not rainy, no friend\n",
    "inputs7 = np.array([1,0,0]) # if alcohol, not rainy, no friend\n",
    "inputs8 = np.array([0,1,1]) # if no alcohol, rainy, friend\n",
    "\n",
    "weights_input_to_hidden_1 = [0.25, 0.25, 0]\n",
    "weights_input_to_hidden_2 = [0.5, -0.4, 0.9]\n",
    "weights_hidden_to_output = np.array([-1, 1])\n",
    "\n",
    "def activation_function(x):\n",
    "    #if (x >= 0.5):\n",
    "    #    return 1\n",
    "    #else:\n",
    "    #    return 0\n",
    "    return 1 / (1 + np.exp(-x))  # Sigmoid function to predict a probability between 0 (not going) and 1 (going) for the party.\n",
    "\n",
    "    \n",
    "def predict(inputs):\n",
    "    bias_hidden = np.array([1])  # Bias for hidden layer\n",
    "    bias_output = np.array([1])  # Bias for output layer\n",
    "\n",
    "    hidden_input_1 = np.dot(inputs, weights_input_to_hidden_1)\n",
    "    hidden_input_2 = np.dot(inputs, weights_input_to_hidden_2)\n",
    "    \n",
    "    hidden_output = np.array([activation_function(hidden_input_1), activation_function(hidden_input_2)])\n",
    "    #output = np.dot(hidden_output, weights_hidden_to_output)\n",
    "    output = np.dot(hidden_output, weights_hidden_to_output) + bias_output\n",
    "\n",
    "    \n",
    "    return activation_function(output)\n",
    "    # Threshold function (modify threshold as needed)\n",
    "    #if output > 0.5:\n",
    "    #    return 1  # Go to party\n",
    "    #else:\n",
    "    #    return 0  # Don't go to party\n",
    "\n",
    "result = predict(inputs)\n",
    "result2 = predict(inputs2)\n",
    "result3 = predict(inputs3)\n",
    "result4 = predict(inputs4)\n",
    "result5 = predict(inputs5)\n",
    "result6 = predict(inputs6)\n",
    "result7 = predict(inputs7)\n",
    "result8 = predict(inputs8)\n",
    "\n",
    "print(\"Result. if no alcohol, rainy, no friend\", result)\n",
    "print(\"Result. if alcohol, not rainy, friend\", result2)\n",
    "print(\"Result. if alcohol, rainy, no friend\", result3)\n",
    "print(\"Result. if no alcohol, not rainy, friend\", result4)\n",
    "print(\"Result. if alcohol, rainy, friend\", result5)\n",
    "print(\"Result. if no alcohol, not rainy, no friend\", result6)\n",
    "print(\"Result. if alcohol, not rainy, no friend\", result7)\n",
    "print(\"Result. if no alcohol, rainy, friend\", result8)\n"
   ]
  },
  {
   "cell_type": "code",
   "execution_count": null,
   "metadata": {},
   "outputs": [],
   "source": []
  }
 ],
 "metadata": {
  "kernelspec": {
   "display_name": "dsi_participant",
   "language": "python",
   "name": "python3"
  },
  "language_info": {
   "codemirror_mode": {
    "name": "ipython",
    "version": 3
   },
   "file_extension": ".py",
   "mimetype": "text/x-python",
   "name": "python",
   "nbconvert_exporter": "python",
   "pygments_lexer": "ipython3",
   "version": "3.9.undefined"
  }
 },
 "nbformat": 4,
 "nbformat_minor": 2
}
